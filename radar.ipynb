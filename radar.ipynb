{
 "cells": [
  {
   "cell_type": "code",
   "execution_count": 1,
   "metadata": {
    "code_folding": [
     11,
     17
    ]
   },
   "outputs": [],
   "source": [
    "# codefolding: https://github.com/ipython-contrib/jupyter_contrib_nbextensions\n",
    "from functools import partial\n",
    "from itertools import product\n",
    "\n",
    "import matplotlib.pyplot as plt\n",
    "import matplotlib.style as style\n",
    "style.use('dark_background')\n",
    "import numpy as np\n",
    "import pandas as pd\n",
    "import seaborn\n",
    "\n",
    "from hlt.transform import (\n",
    "  DIRS4, DIR_O, DIRS_ALL,\n",
    "  yx2ngbrs, dist_mtn\n",
    "  )\n",
    "E,N,W,S=(0,1),(-1,0),(0,-1),(1,0)\n",
    "O=(0,0)\n",
    "from hlt.util import (\n",
    "  flatmap, mapl, maps_itr, maps_func, memo, # DATA\n",
    "  asrt, lvl2lgr, log, logitr, logaz, timit, # DEBUG\n",
    "  )\n",
    "logf=log.warning\n",
    "timit = partial(timit, lvl='warn')"
   ]
  },
  {
   "cell_type": "code",
   "execution_count": 2,
   "metadata": {
    "code_folding": [
     0,
     9,
     13
    ]
   },
   "outputs": [],
   "source": [
    "def make_map(dim=8, min_max=(0,1000), _show=False):\n",
    "  _map = np.random.uniform(*min_max, size=(dim,dim)).astype(int)\n",
    "  if _show: show(_map)\n",
    "  return _map\n",
    "show = lambda mat: display(pd.DataFrame(mat))\n",
    "@memo()\n",
    "def c8c2c(yx0,dlt,dim): return (yx0[0]+dlt[0])%dim, (yx0[1]+dlt[1])%dim\n",
    "def c8cs2c(yx0, dlts, dim): return c8c2c(yx0, tuple(map(sum,zip(*dlts))), dim)\n",
    "@memo()\n",
    "def yx2ngbrs(yx, dim):\n",
    "  dirs = DIRS4#[E,N,W,S]\n",
    "  return [c8c2c(yx,_dir,dim) for _dir in dirs]\n",
    "# print(yx2ngbrs((3,0),4))\n",
    "def hmap(mat, lmh=(None,None,None),colors='PiYG_r',**kwargs): # TODO backport plots() dark-style\n",
    "  vmin,center,vmax = lmh\n",
    "  kwargs['vmin'] = vmin\n",
    "  kwargs['center'] = center\n",
    "  kwargs['vmax'] = vmax\n",
    "  cmap = plt.get_cmap(colors)\n",
    "#   cmap.set_bad(color='black', alpha=np.nan)\n",
    "  kwargs['cmap'] = cmap\n",
    "  kwargs['annot'] = True\n",
    "  kwargs['fmt'] = 'g'\n",
    "  df = pd.DataFrame(mat).replace([np.inf,-np.inf], np.nan) # mask inf vals\n",
    "  if 'ax' not in kwargs:\n",
    "    fig, ax = plt.subplots(1,1, figsize=(7,6)) # dummy subplot just to give an ax\n",
    "    kwargs['ax'] = ax\n",
    "  heatmap = seaborn.heatmap(df,**kwargs)\n",
    "# hmap(make_map(4))"
   ]
  },
  {
   "cell_type": "code",
   "execution_count": 3,
   "metadata": {
    "code_folding": [
     2,
     6,
     21,
     30,
     57,
     95
    ]
   },
   "outputs": [],
   "source": [
    "from math import ceil, floor\n",
    "from queue import PriorityQueue\n",
    "\"\"\"BestFirstSearch\n",
    "  scan for value\n",
    "  seek path-cheapest: src -> tgt\n",
    "  \"\"\"\n",
    "def pq(item_init=None, lvl='debug'):\n",
    "  logf = lvl2lgr(lvl)\n",
    "  def pq_put(item):\n",
    "    _pq.put(item)\n",
    "    logf('+ %s [%d]', item, _pq.qsize())\n",
    "  def pq_get():\n",
    "    item = _pq.get()\n",
    "    logf('- %s [%d]', item, _pq.qsize())\n",
    "    return item\n",
    "  empty = lambda: _pq.empty()\n",
    "#   stats = lambda: logf('# puts: %d; # gets: %d', n_puts, n_gets)\n",
    "  _pq = PriorityQueue()\n",
    "  if item_init: pq_put(item_init)\n",
    "  return pq_put, pq_get, empty#, stats\n",
    "# @timit() # TODO vectorize\n",
    "def decay_map(_map, src, r_decay=1.):\n",
    "  f = lambda yx: _map[yx] * r_decay**dist_mtn(src, yx, len(_map))\n",
    "#   return np.vectorize(f)(_map)\n",
    "  _decay_map = _map.copy()\n",
    "  for yx, _ in np.ndenumerate(_decay_map):\n",
    "    _decay_map[yx] = f(yx)\n",
    "  return _decay_map\n",
    "## seek path cheapest: src -> tgt\n",
    "@timit()\n",
    "def seek(_map, src, tgt, r_decay=1., r_cost_move=.1, lvl='debug'):\n",
    "  dim = len(_map)\n",
    "  cost_init = np.inf\n",
    "  cost_map = np.full((dim,dim),fill_value=cost_init) # best cost-realized: src -> yx\n",
    "  seen = lambda yx: cost_map[yx]!=cost_init\n",
    "  _decay_map = decay_map(_map, src, r_decay)\n",
    "  def cost_known(yx,cost=None): return cost_map[yx]\n",
    "  def cost_guess(yx0,yx1): return dist_mtn(yx0,yx1,dim) # TMP heuristic cost-forward: yx -> tgt\n",
    "  def cost_combo(yx0,yx1): return cost_known(yx0) + cost_guess(yx0,yx1)\n",
    "  put, get, empty = pq(lvl=lvl,\n",
    "    item_init=(0, cost_guess(src,tgt), src),) # seed: known, guess, yx\n",
    "  i = 0\n",
    "  while not empty():\n",
    "    i+=1\n",
    "    known, guess, yx_curr = get()\n",
    "    if known < cost_known(yx_curr): # 1st visit = cheapest -> update maps\n",
    "      cost_map[yx_curr]=known # update w/ better cost-realized\n",
    "      if yx_curr == tgt:\n",
    "        log.warning('@%s after %d iters!', tgt, i)\n",
    "        break\n",
    "      for yx_ngbr in [yx for yx in yx2ngbrs(*yx_curr, dim) if not seen(yx)]:\n",
    "        if cost_guess(yx_ngbr,tgt) < cost_guess(yx_curr,tgt): # OPTI\n",
    "          cost_ngbr = floor(cost_known(yx_curr) + _decay_map[yx_curr]*r_cost_move)\n",
    "          put( (cost_ngbr, cost_guess(yx_ngbr,tgt), yx_ngbr) )\n",
    "  return _map, _decay_map, cost_map\n",
    "## scan -> flatten values: future -> present\n",
    "@timit()\n",
    "def scan(_map, cost2depot_map, src, rev=False, perim=2, r_decay=1., r_cost_move=.1, lvl='debug'): # rev: reverse cost source for cost2depot\n",
    "  logf = lvl2lgr(lvl)\n",
    "  dim = len(_map)\n",
    "  cost_init = np.inf\n",
    "  cost_map = np.full((dim,dim),fill_value=cost_init)\n",
    "  seen = lambda yx: cost_map[yx]!=cost_init\n",
    "  _decay_map = decay_map(_map, src, r_decay) # OPT\n",
    "  val_map = np.full((dim,dim),fill_value=-cost_init) # ~= _decay_map - cost_map\n",
    "  def clj_backtrack(): # back-propagate outer values (after update) -> 5 moves\n",
    "    backtrack_map = np.full((dim,dim),fill_value=-np.inf)\n",
    "    backtrack_map[src] = val_map[src]\n",
    "    curr2prev = {src: src} # link cells: outer -> inner\n",
    "    def back_ptr(yx_curr, yx_prev): # stores curr->prev then returns prev\n",
    "      curr2prev[yx_curr] = yx_prev\n",
    "      return yx_prev\n",
    "    def backtrack(yx_curr, yx_prev):\n",
    "      # update yx_curr\n",
    "      dist = dist_mtn(yx_curr, src, dim)\n",
    "      new_back_curr = max(\n",
    "        floor(val_map[yx_curr]*(r_decay**dist)), \n",
    "        backtrack_map[yx_curr])\n",
    "      if new_back_curr != backtrack_map[yx_curr]:\n",
    "        # logf('%so>%s: %s->%s', yx_curr, yx_curr, backtrack_map[yx_curr], new_back_curr)\n",
    "        backtrack_map[yx_curr] = new_back_curr\n",
    "      # update prev\n",
    "      if yx_prev!=src:\n",
    "        dist = dist_mtn(yx_prev, src, dim)\n",
    "        new_back_prev = max(\n",
    "          floor(backtrack_map[yx_curr]*r_decay),\n",
    "          floor(val_map[yx_prev]*(r_decay**dist)),\n",
    "          backtrack_map[yx_prev])\n",
    "        if new_back_prev != backtrack_map[yx_prev]:\n",
    "          # logf('%s->%s: %s->%s', yx_curr, yx_prev, backtrack_map[yx_prev], new_back_prev)\n",
    "          backtrack_map[yx_prev] = new_back_prev\n",
    "        backtrack(yx_prev, curr2prev[yx_prev]) # pass new info outside inward\n",
    "    return back_ptr, backtrack, backtrack_map\n",
    "  back_ptr, backtrack, backtrack_map = clj_backtrack()\n",
    "  put, get, empty = pq(item_init=(0,0,src,src), lvl=lvl) # (cost,dist,yx_curr,yx_prev)\n",
    "  while not empty():\n",
    "    cost,dist,yx_curr,yx_prev = get()\n",
    "    if cost < cost_map[yx_curr]: # 1st visit also cheapest -> update maps & backtrack\n",
    "      cost_map[yx_curr] = cost\n",
    "      # val_map[yx_curr] = _decay_map[yx_curr] - cost # cost: src -> tgt\n",
    "      # val_map[yx_curr] = floor(_map[yx_curr]*(r_decay**dist)) - cost # cost: src -> tgt\n",
    "      # cost: src -> tgt -> depot_nearest \n",
    "      # decay only during backtrack\n",
    "      val_map[yx_curr] = _map[yx_curr] - cost - cost2depot_map[yx_curr]\n",
    "      backtrack(yx_curr, yx_prev)\n",
    "      if dist <= perim: # expand in-perim ngbrs\n",
    "        for yx_ngbr in [yx for yx in yx2ngbrs(yx_curr, dim) if not seen(yx)]:\n",
    "          source_cost = yx_curr if not rev else yx_ngbr # reverse approach direction <- cost2depot_map\n",
    "          cost_ngbr = floor(cost + _map[source_cost]*r_cost_move) # decay val but not cost\n",
    "          put( (cost_ngbr, dist+1, yx_ngbr, back_ptr(yx_ngbr, yx_curr)) )\n",
    "    # else: # later visits only backtracks value\n",
    "    #   backtrack(yx_curr, yx_prev, dist)\n",
    "  return _map, _decay_map, cost2depot_map, cost_map, val_map, backtrack_map\n",
    "# initial map -> initial cost-to-depot-map\n",
    "def init_cost2depot(_map, depot):\n",
    "  dim = len(_map)\n",
    "  _,_,_,cost2depot_map,_,_ = scan(_map, cost2depot_map=np.full((dim,dim),0), src=depot, rev=True, perim=dim*2+1, r_decay=1.)\n",
    "  return cost2depot_map.astype(int)\n",
    "def init_cost_map(_map, cost2depot_map, src): # for logging only\n",
    "  _,_,_,cost_map_init,_,_ = scan(_map, cost2depot_map, src=src, perim=len(_map), r_decay=1.)\n",
    "  return cost_map_init"
   ]
  },
  {
   "cell_type": "code",
   "execution_count": 4,
   "metadata": {
    "scrolled": false
   },
   "outputs": [
    {
     "data": {
      "text/html": [
       "<div>\n",
       "<style scoped>\n",
       "    .dataframe tbody tr th:only-of-type {\n",
       "        vertical-align: middle;\n",
       "    }\n",
       "\n",
       "    .dataframe tbody tr th {\n",
       "        vertical-align: top;\n",
       "    }\n",
       "\n",
       "    .dataframe thead th {\n",
       "        text-align: right;\n",
       "    }\n",
       "</style>\n",
       "<table border=\"1\" class=\"dataframe\">\n",
       "  <thead>\n",
       "    <tr style=\"text-align: right;\">\n",
       "      <th></th>\n",
       "      <th>0</th>\n",
       "      <th>1</th>\n",
       "      <th>2</th>\n",
       "      <th>3</th>\n",
       "      <th>4</th>\n",
       "      <th>5</th>\n",
       "    </tr>\n",
       "  </thead>\n",
       "  <tbody>\n",
       "    <tr>\n",
       "      <th>0</th>\n",
       "      <td>80</td>\n",
       "      <td>29</td>\n",
       "      <td>19</td>\n",
       "      <td>10</td>\n",
       "      <td>41</td>\n",
       "      <td>98</td>\n",
       "    </tr>\n",
       "    <tr>\n",
       "      <th>1</th>\n",
       "      <td>10</td>\n",
       "      <td>55</td>\n",
       "      <td>12</td>\n",
       "      <td>46</td>\n",
       "      <td>77</td>\n",
       "      <td>66</td>\n",
       "    </tr>\n",
       "    <tr>\n",
       "      <th>2</th>\n",
       "      <td>55</td>\n",
       "      <td>68</td>\n",
       "      <td>56</td>\n",
       "      <td>74</td>\n",
       "      <td>62</td>\n",
       "      <td>6</td>\n",
       "    </tr>\n",
       "    <tr>\n",
       "      <th>3</th>\n",
       "      <td>85</td>\n",
       "      <td>0</td>\n",
       "      <td>92</td>\n",
       "      <td>30</td>\n",
       "      <td>11</td>\n",
       "      <td>21</td>\n",
       "    </tr>\n",
       "    <tr>\n",
       "      <th>4</th>\n",
       "      <td>44</td>\n",
       "      <td>41</td>\n",
       "      <td>47</td>\n",
       "      <td>45</td>\n",
       "      <td>77</td>\n",
       "      <td>82</td>\n",
       "    </tr>\n",
       "    <tr>\n",
       "      <th>5</th>\n",
       "      <td>66</td>\n",
       "      <td>45</td>\n",
       "      <td>85</td>\n",
       "      <td>47</td>\n",
       "      <td>1</td>\n",
       "      <td>39</td>\n",
       "    </tr>\n",
       "  </tbody>\n",
       "</table>\n",
       "</div>"
      ],
      "text/plain": [
       "    0   1   2   3   4   5\n",
       "0  80  29  19  10  41  98\n",
       "1  10  55  12  46  77  66\n",
       "2  55  68  56  74  62   6\n",
       "3  85   0  92  30  11  21\n",
       "4  44  41  47  45  77  82\n",
       "5  66  45  85  47   1  39"
      ]
     },
     "metadata": {},
     "output_type": "display_data"
    }
   ],
   "source": [
    "# params -> test maps\n",
    "DIM = 6\n",
    "VMIN, VMAX = 0, 100\n",
    "MAP_INIT = make_map(DIM,(VMIN,VMAX),_show=True)"
   ]
  },
  {
   "cell_type": "code",
   "execution_count": 5,
   "metadata": {
    "code_folding": [
     2,
     19,
     25,
     32
    ],
    "scrolled": false
   },
   "outputs": [
    {
     "name": "stderr",
     "output_type": "stream",
     "text": [
      "WARNING:root:scan ~ 5 ms\n",
      "WARNING:root:scan ~ 6 ms\n",
      "WARNING:root:scan ~ 5 ms\n",
      "WARNING:root:move: (1, 1) -> (1, 1) $ -0\n"
     ]
    },
    {
     "data": {
      "image/png": "[encoded data removed]",
      "text/plain": [
       "<Figure size 1512x864 with 12 Axes>"
      ]
     },
     "metadata": {
      "needs_background": "dark"
     },
     "output_type": "display_data"
    },
    {
     "name": "stderr",
     "output_type": "stream",
     "text": [
      "WARNING:root:plots ~ 3276 ms\n"
     ]
    },
    {
     "data": {
      "text/plain": [
       "(1, 1)"
      ]
     },
     "execution_count": 5,
     "metadata": {},
     "output_type": "execute_result"
    }
   ],
   "source": [
    "# utils for debugging & visualizing BFS actions\n",
    "@timit() # funcize subplot suite\n",
    "def plots(min_max, _map, _decay_map, cost2depot_map, cost_map, val_map=None, backtrack_map=None):\n",
    "  vmin,vmax = min_max\n",
    "  h,w=2,3\n",
    "  fig, ax = plt.subplots(h,w, sharey='row', figsize=(7*w,6*h))\n",
    "  hmap(_map, lmh=(vmin,0,vmax), colors='PiYG', ax=ax[0,0])\n",
    "  hmap(_decay_map, lmh=(vmin,0,vmax), colors='PiYG', ax=ax[0,1])\n",
    "  hmap(cost2depot_map, lmh=(vmin,0,None), colors='PiYG_r', ax=ax[0,2])\n",
    "  hmap(cost_map, lmh=(vmin,0,None), colors='PiYG_r', ax=ax[1,0])\n",
    "  if not (val_map is None):\n",
    "    hmap(val_map, lmh=(None,0,vmax), colors='PiYG', ax=ax[1,1])\n",
    "#     hmap(_decay_map-cost_map, lmh=(None,0,vmax), colors='PiYG', ax=ax[1,1])\n",
    "  if not (backtrack_map is None):\n",
    "    hmap(backtrack_map, lmh=(None,0,vmax), colors='PiYG', ax=ax[1,2])\n",
    "  plt.show()\n",
    "R_COST_MOVE=.1\n",
    "PERIM=3 # TODO paramize <- area ships_all-presence <- dynamicity\n",
    "R_DECAY = .7\n",
    "def get_costs(cost_map, src, dlts): # path-independent unlike cost_map[dst]\n",
    "  costs = []\n",
    "  for dlt in dlts:\n",
    "    dst = c8c2c(src,dlt,DIM)\n",
    "    costs.append( int(cost_map[dst]) )\n",
    "  return costs\n",
    "def move(_map, cost2depot_map, src, dlts, perim=PERIM, r_decay=R_DECAY):\n",
    "  cost_map_init = init_cost_map(_map, cost2depot_map, src)\n",
    "  dst = c8cs2c(src, dlts, DIM)\n",
    "  _map, _decay_map, cost2depot_map, cost_map, val_map, backtrack_map = scan(_map, cost2depot_map, dst, perim=PERIM, r_decay=R_DECAY)\n",
    "  logf('move: %s -> %s $ -%s', src, dst, int(cost_map_init[dst]))\n",
    "  plots((VMIN,VMAX), _map, _decay_map, cost2depot_map, cost_map, val_map, backtrack_map)\n",
    "  return dst\n",
    "def pick(_map, cost2depot_map, src, dlts, perim=PERIM, r_decay=R_DECAY):\n",
    "  cost_map_init = init_cost_map(_map, cost2depot_map, src)\n",
    "  dst = c8cs2c(src, dlts, DIM)\n",
    "  new_map = _map.copy()\n",
    "  hlt_picked = ceil(new_map[dst] * 0.25)\n",
    "  new_map[dst] -= hlt_picked\n",
    "  cost2depot_map = init_cost2depot(new_map, DEPOT)\n",
    "  new_map, _decay_map, cost2depot_map, cost_map, val_map, backtrack_map = scan(new_map, cost2depot_map, dst, perim=PERIM, r_decay=R_DECAY)\n",
    "  logf('pick: %s -> @%s $ -%s +%d', src, dst, int(cost_map_init[dst]), hlt_picked)\n",
    "  plots((VMIN,VMAX), new_map, _decay_map, cost2depot_map, cost_map, val_map, backtrack_map)\n",
    "  return dst, new_map, cost2depot_map\n",
    "## TODO automate target selection -> speedup testing\n",
    "src = DEPOT = (1,1)\n",
    "_map = MAP_INIT.copy()\n",
    "_map[DEPOT] = 0\n",
    "cost2depot_map = init_cost2depot(_map, depot=DEPOT)\n",
    "move(_map, cost2depot_map, src, [O])"
   ]
  },
  {
   "cell_type": "code",
   "execution_count": null,
   "metadata": {},
   "outputs": [],
   "source": [
    "# BOF 1\n",
    "src, _map, cost2depot_map = pick(_map, cost2depot_map, src, [W]) # 0; 25;"
   ]
  },
  {
   "cell_type": "code",
   "execution_count": null,
   "metadata": {},
   "outputs": [],
   "source": [
    "src, _map, cost2depot_map = pick(_map, cost2depot_map, src, [O]) # 0; 43;"
   ]
  },
  {
   "cell_type": "code",
   "execution_count": null,
   "metadata": {},
   "outputs": [],
   "source": [
    "src, _map, cost2depot_map = pick(_map, cost2depot_map, src, [O]) # 0; 57;"
   ]
  },
  {
   "cell_type": "code",
   "execution_count": null,
   "metadata": {},
   "outputs": [],
   "source": [
    "src, _map, cost2depot_map = pick(_map, cost2depot_map, src, [O]) # 0; 67;"
   ]
  },
  {
   "cell_type": "code",
   "execution_count": null,
   "metadata": {},
   "outputs": [],
   "source": [
    "# move(_map, cost2depot_map, src, [S,S])\n",
    "src, _map, cost2depot_map = pick(_map, cost2depot_map, src, [S,S]) # 9; 92; 83"
   ]
  },
  {
   "cell_type": "code",
   "execution_count": null,
   "metadata": {},
   "outputs": [],
   "source": [
    "# 83:(E:62,N:67): cargocap: min dist-depot & future cost\n",
    "# move(_map, cost2depot_map, src, [E])\n",
    "src, _map, cost2depot_map = pick(_map, cost2depot_map, src, [E]) # 16; 108; 92"
   ]
  },
  {
   "cell_type": "code",
   "execution_count": null,
   "metadata": {},
   "outputs": [],
   "source": [
    "# 92:(N:59): cargocap: min dist-depot & future cost\n",
    "src, _map, cost2depot_map = pick(_map, cost2depot_map, src, [N]) # 20; 123; 103->100"
   ]
  },
  {
   "cell_type": "code",
   "execution_count": null,
   "metadata": {},
   "outputs": [],
   "source": [
    "# 100: drop\n",
    "src, _map, cost2depot_map = pick(_map, cost2depot_map, src, [N]) # 24; 123; 103->100-4=96; 78%; 6m7p"
   ]
  },
  {
   "cell_type": "code",
   "execution_count": null,
   "metadata": {},
   "outputs": [],
   "source": []
  }
 ],
 "metadata": {
  "kernelspec": {
   "display_name": "Python 3",
   "language": "python",
   "name": "python3"
  },
  "language_info": {
   "codemirror_mode": {
    "name": "ipython",
    "version": 3
   },
   "file_extension": ".py",
   "mimetype": "text/x-python",
   "name": "python",
   "nbconvert_exporter": "python",
   "pygments_lexer": "ipython3",
   "version": "3.7.0"
  }
 },
 "nbformat": 4,
 "nbformat_minor": 2
}
